{
 "cells": [
  {
   "cell_type": "code",
   "execution_count": 2,
   "id": "e82cd259-9b59-442b-9f2d-ece9aea4db9f",
   "metadata": {},
   "outputs": [],
   "source": [
    "l=[1,23.34,\"sand\",True, 5+7j]"
   ]
  },
  {
   "cell_type": "code",
   "execution_count": 3,
   "id": "65689aca-8670-47a7-95fd-f3531c395f62",
   "metadata": {},
   "outputs": [
    {
     "data": {
      "text/plain": [
       "list"
      ]
     },
     "execution_count": 3,
     "metadata": {},
     "output_type": "execute_result"
    }
   ],
   "source": [
    "type(l)"
   ]
  },
  {
   "cell_type": "code",
   "execution_count": 7,
   "id": "0c042f9d-4892-428c-8ef6-120f6b095eb4",
   "metadata": {},
   "outputs": [
    {
     "data": {
      "text/plain": [
       "list"
      ]
     },
     "execution_count": 7,
     "metadata": {},
     "output_type": "execute_result"
    }
   ],
   "source": [
    "type(l)"
   ]
  },
  {
   "cell_type": "code",
   "execution_count": 8,
   "id": "9f8bc0a5-4139-4269-bd9f-1d373e5202f5",
   "metadata": {},
   "outputs": [
    {
     "data": {
      "text/plain": [
       "1"
      ]
     },
     "execution_count": 8,
     "metadata": {},
     "output_type": "execute_result"
    }
   ],
   "source": [
    "l[0]"
   ]
  },
  {
   "cell_type": "code",
   "execution_count": 9,
   "id": "ab5c13d2-8aff-49d2-ab47-b01d5486aec1",
   "metadata": {},
   "outputs": [
    {
     "data": {
      "text/plain": [
       "23.34"
      ]
     },
     "execution_count": 9,
     "metadata": {},
     "output_type": "execute_result"
    }
   ],
   "source": [
    "l[1]"
   ]
  },
  {
   "cell_type": "code",
   "execution_count": 10,
   "id": "db5a1cca-c858-4eb0-a64d-3c688e2bebfd",
   "metadata": {},
   "outputs": [
    {
     "data": {
      "text/plain": [
       "float"
      ]
     },
     "execution_count": 10,
     "metadata": {},
     "output_type": "execute_result"
    }
   ],
   "source": [
    "type(l[1])"
   ]
  },
  {
   "cell_type": "code",
   "execution_count": 11,
   "id": "a6146a6d-57b8-4d87-acf9-5bcfd2c1614c",
   "metadata": {},
   "outputs": [
    {
     "data": {
      "text/plain": [
       "'sand'"
      ]
     },
     "execution_count": 11,
     "metadata": {},
     "output_type": "execute_result"
    }
   ],
   "source": [
    "l[2]"
   ]
  },
  {
   "cell_type": "code",
   "execution_count": 12,
   "id": "9e174651-e0d1-47cb-a69b-aaec8d7ceea4",
   "metadata": {},
   "outputs": [
    {
     "data": {
      "text/plain": [
       "True"
      ]
     },
     "execution_count": 12,
     "metadata": {},
     "output_type": "execute_result"
    }
   ],
   "source": [
    "l[3]"
   ]
  },
  {
   "cell_type": "code",
   "execution_count": 13,
   "id": "1393dfd8-1c03-477e-9aa4-3f8029405ca0",
   "metadata": {},
   "outputs": [
    {
     "data": {
      "text/plain": [
       "(5+7j)"
      ]
     },
     "execution_count": 13,
     "metadata": {},
     "output_type": "execute_result"
    }
   ],
   "source": [
    "l[4]"
   ]
  },
  {
   "cell_type": "code",
   "execution_count": 14,
   "id": "690ea121-b10b-43f1-819f-abdf843c343a",
   "metadata": {},
   "outputs": [
    {
     "ename": "IndexError",
     "evalue": "list index out of range",
     "output_type": "error",
     "traceback": [
      "\u001b[0;31m---------------------------------------------------------------------------\u001b[0m",
      "\u001b[0;31mIndexError\u001b[0m                                Traceback (most recent call last)",
      "Cell \u001b[0;32mIn[14], line 1\u001b[0m\n\u001b[0;32m----> 1\u001b[0m \u001b[43ml\u001b[49m\u001b[43m[\u001b[49m\u001b[38;5;241;43m90\u001b[39;49m\u001b[43m]\u001b[49m\n",
      "\u001b[0;31mIndexError\u001b[0m: list index out of range"
     ]
    }
   ],
   "source": [
    "l[90]"
   ]
  },
  {
   "cell_type": "code",
   "execution_count": 15,
   "id": "9884c19a-8503-47db-9abe-a007093d68b0",
   "metadata": {},
   "outputs": [
    {
     "data": {
      "text/plain": [
       "[1, 23.34, 'sand', True, (5+7j)]"
      ]
     },
     "execution_count": 15,
     "metadata": {},
     "output_type": "execute_result"
    }
   ],
   "source": [
    "l"
   ]
  },
  {
   "cell_type": "code",
   "execution_count": 16,
   "id": "79e54754-67e3-4217-ac5a-077880130671",
   "metadata": {},
   "outputs": [
    {
     "data": {
      "text/plain": [
       "[1, 23.34, 'sand']"
      ]
     },
     "execution_count": 16,
     "metadata": {},
     "output_type": "execute_result"
    }
   ],
   "source": [
    "l[0:3]"
   ]
  },
  {
   "cell_type": "code",
   "execution_count": 17,
   "id": "0b3baaff-7019-403f-a771-4e9dcf12fb85",
   "metadata": {},
   "outputs": [
    {
     "data": {
      "text/plain": [
       "(5+7j)"
      ]
     },
     "execution_count": 17,
     "metadata": {},
     "output_type": "execute_result"
    }
   ],
   "source": [
    "l[-1]"
   ]
  },
  {
   "cell_type": "code",
   "execution_count": 18,
   "id": "36316a1f-2683-45a5-8541-fedfd1777673",
   "metadata": {},
   "outputs": [
    {
     "data": {
      "text/plain": [
       "[(5+7j), True, 'sand', 23.34, 1]"
      ]
     },
     "execution_count": 18,
     "metadata": {},
     "output_type": "execute_result"
    }
   ],
   "source": [
    "l[::-1]"
   ]
  },
  {
   "cell_type": "code",
   "execution_count": 20,
   "id": "376284d9-accc-4d6f-810a-5852a14948a1",
   "metadata": {},
   "outputs": [],
   "source": [
    "s=\"pwskill\""
   ]
  },
  {
   "cell_type": "code",
   "execution_count": 21,
   "id": "91b3290f-8920-468d-a07e-e06d0382bb9e",
   "metadata": {},
   "outputs": [
    {
     "ename": "TypeError",
     "evalue": "can only concatenate str (not \"list\") to str",
     "output_type": "error",
     "traceback": [
      "\u001b[0;31m---------------------------------------------------------------------------\u001b[0m",
      "\u001b[0;31mTypeError\u001b[0m                                 Traceback (most recent call last)",
      "Cell \u001b[0;32mIn[21], line 1\u001b[0m\n\u001b[0;32m----> 1\u001b[0m \u001b[43ms\u001b[49m\u001b[38;5;241;43m+\u001b[39;49m\u001b[43ml\u001b[49m\n",
      "\u001b[0;31mTypeError\u001b[0m: can only concatenate str (not \"list\") to str"
     ]
    }
   ],
   "source": [
    "s+l"
   ]
  },
  {
   "cell_type": "code",
   "execution_count": 26,
   "id": "f5524e3f-fb5f-4cc1-ade5-bdec133df1b7",
   "metadata": {},
   "outputs": [
    {
     "data": {
      "text/plain": [
       "['p', 'w', 's', 'k', 'i', 'l', 'l', 1, 23.34, 'sand', True, (5+7j)]"
      ]
     },
     "execution_count": 26,
     "metadata": {},
     "output_type": "execute_result"
    }
   ],
   "source": [
    "list(s) + l"
   ]
  },
  {
   "cell_type": "code",
   "execution_count": 27,
   "id": "6e50db4c-7610-4c2f-91a1-1b2c3755868f",
   "metadata": {},
   "outputs": [
    {
     "data": {
      "text/plain": [
       "[1, 23.34, 'sand', True, (5+7j)]"
      ]
     },
     "execution_count": 27,
     "metadata": {},
     "output_type": "execute_result"
    }
   ],
   "source": [
    "l"
   ]
  },
  {
   "cell_type": "code",
   "execution_count": 30,
   "id": "9b640f48-e2af-40b8-b5d1-d1aa7f9d2602",
   "metadata": {},
   "outputs": [
    {
     "data": {
      "text/plain": [
       "bool"
      ]
     },
     "execution_count": 30,
     "metadata": {},
     "output_type": "execute_result"
    }
   ],
   "source": [
    "type(l[3])"
   ]
  },
  {
   "cell_type": "code",
   "execution_count": 33,
   "id": "bc843c35-6736-4dfc-9396-9b64ace438ae",
   "metadata": {},
   "outputs": [
    {
     "data": {
      "text/plain": [
       "complex"
      ]
     },
     "execution_count": 33,
     "metadata": {},
     "output_type": "execute_result"
    }
   ],
   "source": [
    "type(l[4])"
   ]
  },
  {
   "cell_type": "code",
   "execution_count": 34,
   "id": "cb3a5833-3825-442b-a65a-4cb953b20199",
   "metadata": {},
   "outputs": [
    {
     "data": {
      "text/plain": [
       "[1, 23.34, 'sand', True, (5+7j)]"
      ]
     },
     "execution_count": 34,
     "metadata": {},
     "output_type": "execute_result"
    }
   ],
   "source": [
    "l"
   ]
  },
  {
   "cell_type": "code",
   "execution_count": 36,
   "id": "6b57cdd0-d629-424b-9515-74cdcefa107a",
   "metadata": {},
   "outputs": [
    {
     "data": {
      "text/plain": [
       "'sa'"
      ]
     },
     "execution_count": 36,
     "metadata": {},
     "output_type": "execute_result"
    }
   ],
   "source": [
    "l[2][0:2]"
   ]
  },
  {
   "cell_type": "code",
   "execution_count": 37,
   "id": "cf15fe09-f465-4593-95a3-f03168dc26a6",
   "metadata": {},
   "outputs": [
    {
     "data": {
      "text/plain": [
       "(5+7j)"
      ]
     },
     "execution_count": 37,
     "metadata": {},
     "output_type": "execute_result"
    }
   ],
   "source": [
    "l[4]"
   ]
  },
  {
   "cell_type": "code",
   "execution_count": 38,
   "id": "b67676c5-0287-4beb-b52d-4c4f29a5def3",
   "metadata": {},
   "outputs": [
    {
     "data": {
      "text/plain": [
       "True"
      ]
     },
     "execution_count": 38,
     "metadata": {},
     "output_type": "execute_result"
    }
   ],
   "source": [
    "l[3]"
   ]
  },
  {
   "cell_type": "code",
   "execution_count": 42,
   "id": "1a9763e0-2d62-41f9-aaa2-be9a54354560",
   "metadata": {},
   "outputs": [
    {
     "ename": "TypeError",
     "evalue": "'list' object is not callable",
     "output_type": "error",
     "traceback": [
      "\u001b[0;31m---------------------------------------------------------------------------\u001b[0m",
      "\u001b[0;31mTypeError\u001b[0m                                 Traceback (most recent call last)",
      "Cell \u001b[0;32mIn[42], line 1\u001b[0m\n\u001b[0;32m----> 1\u001b[0m \u001b[43ml\u001b[49m\u001b[43m(\u001b[49m\u001b[43m[\u001b[49m\u001b[38;5;241;43m3\u001b[39;49m\u001b[43m]\u001b[49m\u001b[43m)\u001b[49m[\u001b[38;5;241m0\u001b[39m:\u001b[38;5;241m2\u001b[39m]\n",
      "\u001b[0;31mTypeError\u001b[0m: 'list' object is not callable"
     ]
    }
   ],
   "source": [
    "l([3])[0:2]"
   ]
  },
  {
   "cell_type": "code",
   "execution_count": 43,
   "id": "5755cf47-2ba1-41c6-8628-3aa21a15d63c",
   "metadata": {},
   "outputs": [
    {
     "data": {
      "text/plain": [
       "'Tr'"
      ]
     },
     "execution_count": 43,
     "metadata": {},
     "output_type": "execute_result"
    }
   ],
   "source": [
    "str(l[3])[0:2]"
   ]
  },
  {
   "cell_type": "code",
   "execution_count": 44,
   "id": "575e2720-7411-48e8-b429-9325013b7a71",
   "metadata": {},
   "outputs": [
    {
     "data": {
      "text/plain": [
       "[1, 23.34, 'sand', True, (5+7j)]"
      ]
     },
     "execution_count": 44,
     "metadata": {},
     "output_type": "execute_result"
    }
   ],
   "source": [
    "l"
   ]
  },
  {
   "cell_type": "code",
   "execution_count": 45,
   "id": "aa74445d-0cca-4622-93a2-407423d68ff1",
   "metadata": {},
   "outputs": [
    {
     "ename": "TypeError",
     "evalue": "can only concatenate list (not \"int\") to list",
     "output_type": "error",
     "traceback": [
      "\u001b[0;31m---------------------------------------------------------------------------\u001b[0m",
      "\u001b[0;31mTypeError\u001b[0m                                 Traceback (most recent call last)",
      "Cell \u001b[0;32mIn[45], line 1\u001b[0m\n\u001b[0;32m----> 1\u001b[0m \u001b[43ml\u001b[49m\u001b[38;5;241;43m+\u001b[39;49m\u001b[38;5;241;43m2\u001b[39;49m\n",
      "\u001b[0;31mTypeError\u001b[0m: can only concatenate list (not \"int\") to list"
     ]
    }
   ],
   "source": [
    "l+2"
   ]
  },
  {
   "cell_type": "code",
   "execution_count": 46,
   "id": "f02654ea-ccd0-4282-a1cb-cc6039605aaf",
   "metadata": {},
   "outputs": [],
   "source": [
    "l1=[2,3,4]"
   ]
  },
  {
   "cell_type": "code",
   "execution_count": 47,
   "id": "68da6e64-7cd6-47e4-ba07-1e20a365163f",
   "metadata": {},
   "outputs": [
    {
     "data": {
      "text/plain": [
       "[1, 23.34, 'sand', True, (5+7j), 2, 3, 4]"
      ]
     },
     "execution_count": 47,
     "metadata": {},
     "output_type": "execute_result"
    }
   ],
   "source": [
    "l+l1"
   ]
  },
  {
   "cell_type": "code",
   "execution_count": 48,
   "id": "0e175011-b067-4c89-8dbb-dac2d813a9ff",
   "metadata": {},
   "outputs": [
    {
     "data": {
      "text/plain": [
       "[2, 3, 4, 2, 3, 4, 2, 3, 4]"
      ]
     },
     "execution_count": 48,
     "metadata": {},
     "output_type": "execute_result"
    }
   ],
   "source": [
    "l1*3"
   ]
  },
  {
   "cell_type": "code",
   "execution_count": 49,
   "id": "2ecef0ab-9764-4998-85f4-39e77d4bb448",
   "metadata": {},
   "outputs": [
    {
     "data": {
      "text/plain": [
       "[1, 23.34, 'sand', True, (5+7j)]"
      ]
     },
     "execution_count": 49,
     "metadata": {},
     "output_type": "execute_result"
    }
   ],
   "source": [
    "l"
   ]
  },
  {
   "cell_type": "code",
   "execution_count": 50,
   "id": "59ee5831-dd60-4b63-8e71-3e454a636fa9",
   "metadata": {},
   "outputs": [
    {
     "data": {
      "text/plain": [
       "5"
      ]
     },
     "execution_count": 50,
     "metadata": {},
     "output_type": "execute_result"
    }
   ],
   "source": [
    "len(l)"
   ]
  },
  {
   "cell_type": "code",
   "execution_count": 51,
   "id": "1c65ea83-3aaf-4e9f-b74d-d54f2235394a",
   "metadata": {},
   "outputs": [
    {
     "data": {
      "text/plain": [
       "[2, 3, 4]"
      ]
     },
     "execution_count": 51,
     "metadata": {},
     "output_type": "execute_result"
    }
   ],
   "source": [
    "l1"
   ]
  },
  {
   "cell_type": "code",
   "execution_count": 52,
   "id": "975e623e-9626-4b0e-9ba1-feaeb4d494f4",
   "metadata": {},
   "outputs": [
    {
     "data": {
      "text/plain": [
       "3"
      ]
     },
     "execution_count": 52,
     "metadata": {},
     "output_type": "execute_result"
    }
   ],
   "source": [
    "len(l1)"
   ]
  },
  {
   "cell_type": "code",
   "execution_count": 53,
   "id": "40d6a237-7ae6-4bb1-85d7-9fd34c86a09d",
   "metadata": {},
   "outputs": [
    {
     "data": {
      "text/plain": [
       "[1, 23.34, 'sand', True, (5+7j)]"
      ]
     },
     "execution_count": 53,
     "metadata": {},
     "output_type": "execute_result"
    }
   ],
   "source": [
    "l"
   ]
  },
  {
   "cell_type": "code",
   "execution_count": 54,
   "id": "dc87f32d-857c-44f6-90cc-0908cbf1cf2d",
   "metadata": {},
   "outputs": [],
   "source": [
    "l.append(6)"
   ]
  },
  {
   "cell_type": "code",
   "execution_count": 55,
   "id": "36707005-d6c8-4b27-b445-d61cb4bb631b",
   "metadata": {},
   "outputs": [
    {
     "data": {
      "text/plain": [
       "[1, 23.34, 'sand', True, (5+7j), 6]"
      ]
     },
     "execution_count": 55,
     "metadata": {},
     "output_type": "execute_result"
    }
   ],
   "source": [
    "l"
   ]
  },
  {
   "cell_type": "code",
   "execution_count": 56,
   "id": "362e0c35-c2ef-4e7b-a105-87f4fca1f711",
   "metadata": {},
   "outputs": [
    {
     "data": {
      "text/plain": [
       "'pwskill'"
      ]
     },
     "execution_count": 56,
     "metadata": {},
     "output_type": "execute_result"
    }
   ],
   "source": [
    "s"
   ]
  },
  {
   "cell_type": "code",
   "execution_count": 60,
   "id": "2a756689-9633-4d91-b0b6-6b41144bbe0a",
   "metadata": {},
   "outputs": [],
   "source": [
    "l.append(s)"
   ]
  },
  {
   "cell_type": "code",
   "execution_count": 61,
   "id": "b16c36fe-f222-43af-807f-22a61210fa8b",
   "metadata": {},
   "outputs": [
    {
     "data": {
      "text/plain": [
       "[1, 23.34, 'sand', True, (5+7j), 6, 'pwskill']"
      ]
     },
     "execution_count": 61,
     "metadata": {},
     "output_type": "execute_result"
    }
   ],
   "source": [
    "l"
   ]
  },
  {
   "cell_type": "code",
   "execution_count": 63,
   "id": "126db353-e7b5-415f-a4dd-c25cef31c9c7",
   "metadata": {},
   "outputs": [
    {
     "data": {
      "text/plain": [
       "[1, 23.34, 'sand', True, (5+7j), 6, 'pwskill']"
      ]
     },
     "execution_count": 63,
     "metadata": {},
     "output_type": "execute_result"
    }
   ],
   "source": [
    "l"
   ]
  },
  {
   "cell_type": "code",
   "execution_count": 64,
   "id": "ff25567b-1803-461c-9a2e-b968643dc6b6",
   "metadata": {},
   "outputs": [
    {
     "data": {
      "text/plain": [
       "'w'"
      ]
     },
     "execution_count": 64,
     "metadata": {},
     "output_type": "execute_result"
    }
   ],
   "source": [
    "l[-1][1]"
   ]
  },
  {
   "cell_type": "code",
   "execution_count": 66,
   "id": "dd1c1416-c561-4c73-b5ba-4a8d1eb70922",
   "metadata": {},
   "outputs": [],
   "source": [
    "l.append(l1)"
   ]
  },
  {
   "cell_type": "code",
   "execution_count": 67,
   "id": "f7938833-2cf5-4534-b93d-3f761e4bdbc8",
   "metadata": {},
   "outputs": [
    {
     "data": {
      "text/plain": [
       "[1, 23.34, 'sand', True, (5+7j), 6, 'pwskill', [2, 3, 4]]"
      ]
     },
     "execution_count": 67,
     "metadata": {},
     "output_type": "execute_result"
    }
   ],
   "source": [
    "l"
   ]
  },
  {
   "cell_type": "code",
   "execution_count": 68,
   "id": "83f82c86-3db3-4992-8498-e61bb29c3f53",
   "metadata": {},
   "outputs": [],
   "source": [
    "l.append(50)"
   ]
  },
  {
   "cell_type": "code",
   "execution_count": 69,
   "id": "672a487b-99be-453b-9739-f77a1c239891",
   "metadata": {},
   "outputs": [
    {
     "data": {
      "text/plain": [
       "[1, 23.34, 'sand', True, (5+7j), 6, 'pwskill', [2, 3, 4], 50]"
      ]
     },
     "execution_count": 69,
     "metadata": {},
     "output_type": "execute_result"
    }
   ],
   "source": [
    "l"
   ]
  },
  {
   "cell_type": "code",
   "execution_count": 70,
   "id": "5a15a211-d1f7-4710-89d0-0c2deb69ce97",
   "metadata": {},
   "outputs": [
    {
     "ename": "TypeError",
     "evalue": "'int' object is not iterable",
     "output_type": "error",
     "traceback": [
      "\u001b[0;31m---------------------------------------------------------------------------\u001b[0m",
      "\u001b[0;31mTypeError\u001b[0m                                 Traceback (most recent call last)",
      "Cell \u001b[0;32mIn[70], line 1\u001b[0m\n\u001b[0;32m----> 1\u001b[0m \u001b[43ml\u001b[49m\u001b[38;5;241;43m.\u001b[39;49m\u001b[43mextend\u001b[49m\u001b[43m(\u001b[49m\u001b[38;5;241;43m4\u001b[39;49m\u001b[43m)\u001b[49m\n",
      "\u001b[0;31mTypeError\u001b[0m: 'int' object is not iterable"
     ]
    }
   ],
   "source": [
    "l.extend(4)"
   ]
  },
  {
   "cell_type": "code",
   "execution_count": 71,
   "id": "a970287a-ce3a-4ed2-adaa-ff2d194fd794",
   "metadata": {},
   "outputs": [],
   "source": [
    "l.extend(\"sand\")"
   ]
  },
  {
   "cell_type": "code",
   "execution_count": 72,
   "id": "ab725b21-3ccb-426d-9b15-fadded3fd8fd",
   "metadata": {},
   "outputs": [
    {
     "data": {
      "text/plain": [
       "[1,\n",
       " 23.34,\n",
       " 'sand',\n",
       " True,\n",
       " (5+7j),\n",
       " 6,\n",
       " 'pwskill',\n",
       " [2, 3, 4],\n",
       " 50,\n",
       " 's',\n",
       " 'a',\n",
       " 'n',\n",
       " 'd']"
      ]
     },
     "execution_count": 72,
     "metadata": {},
     "output_type": "execute_result"
    }
   ],
   "source": [
    "l"
   ]
  },
  {
   "cell_type": "code",
   "execution_count": 74,
   "id": "03b88574-326e-4003-8194-f2ac676df4cb",
   "metadata": {},
   "outputs": [],
   "source": [
    "l.extend(\"true\")"
   ]
  },
  {
   "cell_type": "code",
   "execution_count": 75,
   "id": "fbbbf8e7-5ddc-48b6-88b2-415c531b6135",
   "metadata": {},
   "outputs": [
    {
     "data": {
      "text/plain": [
       "[1,\n",
       " 23.34,\n",
       " 'sand',\n",
       " True,\n",
       " (5+7j),\n",
       " 6,\n",
       " 'pwskill',\n",
       " [2, 3, 4],\n",
       " 50,\n",
       " 's',\n",
       " 'a',\n",
       " 'n',\n",
       " 'd',\n",
       " 't',\n",
       " 'r',\n",
       " 'u',\n",
       " 'e']"
      ]
     },
     "execution_count": 75,
     "metadata": {},
     "output_type": "execute_result"
    }
   ],
   "source": [
    "l"
   ]
  },
  {
   "cell_type": "code",
   "execution_count": 76,
   "id": "1282a454-dfef-4720-97f9-aac7341300b2",
   "metadata": {},
   "outputs": [
    {
     "data": {
      "text/plain": [
       "[2, 3, 4]"
      ]
     },
     "execution_count": 76,
     "metadata": {},
     "output_type": "execute_result"
    }
   ],
   "source": [
    "l1"
   ]
  },
  {
   "cell_type": "code",
   "execution_count": 77,
   "id": "594cf7f5-5a50-4abe-9ba6-fef9192d4a49",
   "metadata": {},
   "outputs": [],
   "source": [
    "l1.insert(1,\"sandeep\")"
   ]
  },
  {
   "cell_type": "code",
   "execution_count": 78,
   "id": "1e389f1c-109e-40ed-89f6-227ce826534e",
   "metadata": {},
   "outputs": [
    {
     "data": {
      "text/plain": [
       "[2, 'sandeep', 3, 4]"
      ]
     },
     "execution_count": 78,
     "metadata": {},
     "output_type": "execute_result"
    }
   ],
   "source": [
    "l1"
   ]
  },
  {
   "cell_type": "code",
   "execution_count": 79,
   "id": "0c8d2498-af63-4412-9eaf-9df9ea3fec58",
   "metadata": {},
   "outputs": [],
   "source": [
    "l1.insert(2,[1,3,5])"
   ]
  },
  {
   "cell_type": "code",
   "execution_count": 80,
   "id": "396e2e53-8083-4a56-83d6-888480b10445",
   "metadata": {},
   "outputs": [
    {
     "data": {
      "text/plain": [
       "[2, 'sandeep', [1, 3, 5], 3, 4]"
      ]
     },
     "execution_count": 80,
     "metadata": {},
     "output_type": "execute_result"
    }
   ],
   "source": [
    "l1"
   ]
  },
  {
   "cell_type": "code",
   "execution_count": 81,
   "id": "be9420e3-2d6d-4496-b3d8-bf34dcc6bbeb",
   "metadata": {},
   "outputs": [],
   "source": [
    "l1.insert(-1,55)"
   ]
  },
  {
   "cell_type": "code",
   "execution_count": 82,
   "id": "4a673fcd-97f9-4c12-9adb-7bf2f4ed6cb1",
   "metadata": {},
   "outputs": [
    {
     "data": {
      "text/plain": [
       "[2, 'sandeep', [1, 3, 5], 3, 55, 4]"
      ]
     },
     "execution_count": 82,
     "metadata": {},
     "output_type": "execute_result"
    }
   ],
   "source": [
    "l1"
   ]
  },
  {
   "cell_type": "code",
   "execution_count": 83,
   "id": "6b0c7d42-4481-4d11-8be0-7fe69a615dd0",
   "metadata": {},
   "outputs": [],
   "source": [
    "l1.insert(0,45)"
   ]
  },
  {
   "cell_type": "code",
   "execution_count": 90,
   "id": "3fccc947-c9c7-484f-81b0-7567b8192bd9",
   "metadata": {},
   "outputs": [
    {
     "data": {
      "text/plain": [
       "[45, 2, 'sandeep']"
      ]
     },
     "execution_count": 90,
     "metadata": {},
     "output_type": "execute_result"
    }
   ],
   "source": [
    "l1"
   ]
  },
  {
   "cell_type": "code",
   "execution_count": 91,
   "id": "4896c83d-44db-4b46-8a8b-6bb65aa3f056",
   "metadata": {},
   "outputs": [
    {
     "data": {
      "text/plain": [
       "'sandeep'"
      ]
     },
     "execution_count": 91,
     "metadata": {},
     "output_type": "execute_result"
    }
   ],
   "source": [
    "l1.pop()"
   ]
  },
  {
   "cell_type": "code",
   "execution_count": 92,
   "id": "1183c1ba-59d9-45e8-8d98-9cad537ac044",
   "metadata": {},
   "outputs": [
    {
     "data": {
      "text/plain": [
       "[45, 2]"
      ]
     },
     "execution_count": 92,
     "metadata": {},
     "output_type": "execute_result"
    }
   ],
   "source": [
    "l1"
   ]
  },
  {
   "cell_type": "code",
   "execution_count": 93,
   "id": "f7835f2e-440a-4ffc-ad06-35d1289feb14",
   "metadata": {},
   "outputs": [
    {
     "data": {
      "text/plain": [
       "2"
      ]
     },
     "execution_count": 93,
     "metadata": {},
     "output_type": "execute_result"
    }
   ],
   "source": [
    "l1.pop(1)"
   ]
  },
  {
   "cell_type": "code",
   "execution_count": 94,
   "id": "da55f0d5-3c6e-4b8a-b674-c0873f5f11fe",
   "metadata": {},
   "outputs": [
    {
     "data": {
      "text/plain": [
       "[45]"
      ]
     },
     "execution_count": 94,
     "metadata": {},
     "output_type": "execute_result"
    }
   ],
   "source": [
    "l1"
   ]
  },
  {
   "cell_type": "code",
   "execution_count": 95,
   "id": "a98d1d06-9a21-4b77-8de3-68f423a69f34",
   "metadata": {},
   "outputs": [
    {
     "data": {
      "text/plain": [
       "[1,\n",
       " 23.34,\n",
       " 'sand',\n",
       " True,\n",
       " (5+7j),\n",
       " 6,\n",
       " 'pwskill',\n",
       " [45],\n",
       " 50,\n",
       " 's',\n",
       " 'a',\n",
       " 'n',\n",
       " 'd',\n",
       " 't',\n",
       " 'r',\n",
       " 'u',\n",
       " 'e']"
      ]
     },
     "execution_count": 95,
     "metadata": {},
     "output_type": "execute_result"
    }
   ],
   "source": [
    "l"
   ]
  },
  {
   "cell_type": "code",
   "execution_count": 96,
   "id": "b0fa398e-129d-47d7-8edd-3760e8ad7365",
   "metadata": {},
   "outputs": [
    {
     "data": {
      "text/plain": [
       "[45]"
      ]
     },
     "execution_count": 96,
     "metadata": {},
     "output_type": "execute_result"
    }
   ],
   "source": [
    "l1"
   ]
  },
  {
   "cell_type": "code",
   "execution_count": 99,
   "id": "487c28fc-ec44-4dab-8b7d-a6c757106c44",
   "metadata": {},
   "outputs": [],
   "source": [
    "l1.append(45)"
   ]
  },
  {
   "cell_type": "code",
   "execution_count": 101,
   "id": "8e4129df-da92-4294-80f5-6f6a0b156ed9",
   "metadata": {},
   "outputs": [],
   "source": [
    "l1.append(\"sand\")"
   ]
  },
  {
   "cell_type": "code",
   "execution_count": 103,
   "id": "6f905ddc-04b4-47bb-878d-b9f006216326",
   "metadata": {},
   "outputs": [],
   "source": [
    "l1.append([44,6,66])"
   ]
  },
  {
   "cell_type": "code",
   "execution_count": 104,
   "id": "3e359a2a-24e2-40d2-bbe5-bf80514d905b",
   "metadata": {},
   "outputs": [
    {
     "data": {
      "text/plain": [
       "[45, 45, 'sand', [44, 6, 66]]"
      ]
     },
     "execution_count": 104,
     "metadata": {},
     "output_type": "execute_result"
    }
   ],
   "source": [
    "l1"
   ]
  },
  {
   "cell_type": "code",
   "execution_count": 105,
   "id": "fe85abe9-955b-4644-8c3d-47cceefe17b3",
   "metadata": {},
   "outputs": [
    {
     "data": {
      "text/plain": [
       "'sand'"
      ]
     },
     "execution_count": 105,
     "metadata": {},
     "output_type": "execute_result"
    }
   ],
   "source": [
    "l1.pop(2)"
   ]
  },
  {
   "cell_type": "code",
   "execution_count": 106,
   "id": "e319eac2-373d-40fa-875a-b9eb23a7301f",
   "metadata": {},
   "outputs": [
    {
     "data": {
      "text/plain": [
       "[45, 45, [44, 6, 66]]"
      ]
     },
     "execution_count": 106,
     "metadata": {},
     "output_type": "execute_result"
    }
   ],
   "source": [
    "l1"
   ]
  },
  {
   "cell_type": "code",
   "execution_count": 109,
   "id": "112e15d5-d329-4158-a2a7-2c09afc7f134",
   "metadata": {},
   "outputs": [
    {
     "data": {
      "text/plain": [
       "[45, 45, [44, 6, 66]]"
      ]
     },
     "execution_count": 109,
     "metadata": {},
     "output_type": "execute_result"
    }
   ],
   "source": [
    "l1"
   ]
  },
  {
   "cell_type": "code",
   "execution_count": 111,
   "id": "6a044b7f-6712-4c7d-96e2-09cf56e5d3ea",
   "metadata": {},
   "outputs": [],
   "source": [
    "l1.append(\"sand\")"
   ]
  },
  {
   "cell_type": "code",
   "execution_count": 112,
   "id": "5bd68156-435f-4183-b9d4-a4a796179c43",
   "metadata": {},
   "outputs": [
    {
     "data": {
      "text/plain": [
       "[45, 45, [44, 6, 66], 'sand']"
      ]
     },
     "execution_count": 112,
     "metadata": {},
     "output_type": "execute_result"
    }
   ],
   "source": [
    "l1"
   ]
  },
  {
   "cell_type": "code",
   "execution_count": 113,
   "id": "d983c203-b2c3-483c-b520-c538da9e841a",
   "metadata": {},
   "outputs": [],
   "source": [
    "l1.remove(45)"
   ]
  },
  {
   "cell_type": "code",
   "execution_count": 114,
   "id": "c10902fb-880d-4f20-8ce6-4fe3f478a8b4",
   "metadata": {},
   "outputs": [
    {
     "data": {
      "text/plain": [
       "[45, [44, 6, 66], 'sand']"
      ]
     },
     "execution_count": 114,
     "metadata": {},
     "output_type": "execute_result"
    }
   ],
   "source": [
    "l1"
   ]
  },
  {
   "cell_type": "code",
   "execution_count": 116,
   "id": "a8a324e5-7a75-4596-acc5-22d3afb2dbd0",
   "metadata": {},
   "outputs": [],
   "source": [
    "l1.remove(\"sand\")"
   ]
  },
  {
   "cell_type": "markdown",
   "id": "5c0551de-3d4b-4cbb-b71b-8374ee6d26b7",
   "metadata": {},
   "source": [
    "# "
   ]
  },
  {
   "cell_type": "code",
   "execution_count": 117,
   "id": "15f934b5-118a-4d24-88c7-27b753d4f4bc",
   "metadata": {},
   "outputs": [
    {
     "data": {
      "text/plain": [
       "[45, [44, 6, 66]]"
      ]
     },
     "execution_count": 117,
     "metadata": {},
     "output_type": "execute_result"
    }
   ],
   "source": [
    "l1"
   ]
  },
  {
   "cell_type": "code",
   "execution_count": 118,
   "id": "19bd6db7-b871-4c66-82ae-f0964087fedd",
   "metadata": {},
   "outputs": [
    {
     "data": {
      "text/plain": [
       "[[44, 6, 66], 45]"
      ]
     },
     "execution_count": 118,
     "metadata": {},
     "output_type": "execute_result"
    }
   ],
   "source": [
    "l1[::-1]"
   ]
  },
  {
   "cell_type": "code",
   "execution_count": 119,
   "id": "eaa5c925-5371-486e-a6b9-695b661ba9ce",
   "metadata": {},
   "outputs": [],
   "source": [
    "l1.reverse()"
   ]
  },
  {
   "cell_type": "code",
   "execution_count": 120,
   "id": "e2bfe116-df3e-4df9-891c-a8a170fde352",
   "metadata": {},
   "outputs": [
    {
     "data": {
      "text/plain": [
       "[[44, 6, 66], 45]"
      ]
     },
     "execution_count": 120,
     "metadata": {},
     "output_type": "execute_result"
    }
   ],
   "source": [
    "l1"
   ]
  },
  {
   "cell_type": "code",
   "execution_count": 121,
   "id": "0ae377e5-bf01-456b-99e6-d58222eb4466",
   "metadata": {},
   "outputs": [
    {
     "data": {
      "text/plain": [
       "[[44, 6, 66], 45]"
      ]
     },
     "execution_count": 121,
     "metadata": {},
     "output_type": "execute_result"
    }
   ],
   "source": [
    "l1"
   ]
  },
  {
   "cell_type": "code",
   "execution_count": 123,
   "id": "874a525b-9b98-4f8e-ae2e-e581fcd41933",
   "metadata": {},
   "outputs": [],
   "source": [
    "l2=[12,34,55,23,78,45,767]"
   ]
  },
  {
   "cell_type": "code",
   "execution_count": 124,
   "id": "62aa1b84-8654-404b-8e26-70f19e67289e",
   "metadata": {},
   "outputs": [],
   "source": [
    "l2.sort()"
   ]
  },
  {
   "cell_type": "code",
   "execution_count": 125,
   "id": "e55ee3d4-4913-4721-91a5-6a9ae8e9ee83",
   "metadata": {},
   "outputs": [
    {
     "data": {
      "text/plain": [
       "[12, 23, 34, 45, 55, 78, 767]"
      ]
     },
     "execution_count": 125,
     "metadata": {},
     "output_type": "execute_result"
    }
   ],
   "source": [
    "l2"
   ]
  },
  {
   "cell_type": "code",
   "execution_count": 128,
   "id": "97702cad-c118-4bcc-9538-bec32a83ec0f",
   "metadata": {},
   "outputs": [],
   "source": [
    "l3=[\"a\", \"b\",\"x\",\"r\",\"p\"]"
   ]
  },
  {
   "cell_type": "code",
   "execution_count": 129,
   "id": "ede4f537-69ad-4514-a469-4581b9661e8a",
   "metadata": {},
   "outputs": [],
   "source": [
    "l3.sort()"
   ]
  },
  {
   "cell_type": "code",
   "execution_count": 130,
   "id": "20bd7cfe-1480-41c0-8d24-5f91e2d9f618",
   "metadata": {},
   "outputs": [
    {
     "data": {
      "text/plain": [
       "['a', 'bx', 'p', 'r']"
      ]
     },
     "execution_count": 130,
     "metadata": {},
     "output_type": "execute_result"
    }
   ],
   "source": [
    "l3"
   ]
  },
  {
   "cell_type": "code",
   "execution_count": 131,
   "id": "4c250139-6c5a-48fb-85ee-21ca82a81303",
   "metadata": {},
   "outputs": [
    {
     "data": {
      "text/plain": [
       "['a', 'bx', 'p', 'r']"
      ]
     },
     "execution_count": 131,
     "metadata": {},
     "output_type": "execute_result"
    }
   ],
   "source": [
    "l3"
   ]
  },
  {
   "cell_type": "code",
   "execution_count": 133,
   "id": "ef59e614-c48c-4e24-9617-982741d6ab64",
   "metadata": {},
   "outputs": [
    {
     "data": {
      "text/plain": [
       "['a', 'bx', 'p', 'r']"
      ]
     },
     "execution_count": 133,
     "metadata": {},
     "output_type": "execute_result"
    }
   ],
   "source": [
    "l3"
   ]
  },
  {
   "cell_type": "code",
   "execution_count": 136,
   "id": "d3f41017-98c9-48e8-b065-5bf74302bee6",
   "metadata": {},
   "outputs": [],
   "source": [
    "l4=[\"sandep\" , \"chunu\" , \"monu\" , \"rhul\"]"
   ]
  },
  {
   "cell_type": "code",
   "execution_count": 137,
   "id": "cb66df97-91df-4184-bdfa-b9c4ffa04fb8",
   "metadata": {},
   "outputs": [],
   "source": [
    "l4.sort()"
   ]
  },
  {
   "cell_type": "code",
   "execution_count": 138,
   "id": "57e8f616-680c-4cf5-b24c-375647460419",
   "metadata": {},
   "outputs": [
    {
     "data": {
      "text/plain": [
       "['chunu', 'monu', 'rhul', 'sandep']"
      ]
     },
     "execution_count": 138,
     "metadata": {},
     "output_type": "execute_result"
    }
   ],
   "source": [
    "l4"
   ]
  },
  {
   "cell_type": "code",
   "execution_count": 139,
   "id": "8c196edf-1f80-4542-9d72-ff976fcb4f31",
   "metadata": {},
   "outputs": [],
   "source": [
    "l4.sort(reverse=True)"
   ]
  },
  {
   "cell_type": "code",
   "execution_count": 140,
   "id": "3fd72a51-a908-4eca-af66-b5c06379dc3b",
   "metadata": {},
   "outputs": [
    {
     "data": {
      "text/plain": [
       "['sandep', 'rhul', 'monu', 'chunu']"
      ]
     },
     "execution_count": 140,
     "metadata": {},
     "output_type": "execute_result"
    }
   ],
   "source": [
    "l4"
   ]
  },
  {
   "cell_type": "code",
   "execution_count": 141,
   "id": "0750ec87-8d58-4a35-abda-d082a0b4ec0a",
   "metadata": {},
   "outputs": [
    {
     "data": {
      "text/plain": [
       "['sandep', 'rhul', 'monu', 'chunu']"
      ]
     },
     "execution_count": 141,
     "metadata": {},
     "output_type": "execute_result"
    }
   ],
   "source": [
    "l4"
   ]
  },
  {
   "cell_type": "code",
   "execution_count": 142,
   "id": "9766bc9c-ceb0-4c07-8321-bf2288783e0c",
   "metadata": {},
   "outputs": [
    {
     "data": {
      "text/plain": [
       "1"
      ]
     },
     "execution_count": 142,
     "metadata": {},
     "output_type": "execute_result"
    }
   ],
   "source": [
    "l4.index(\"rhul\")"
   ]
  },
  {
   "cell_type": "code",
   "execution_count": 143,
   "id": "c0c13448-703e-4123-bd4e-2c0fb2cac4dd",
   "metadata": {},
   "outputs": [
    {
     "data": {
      "text/plain": [
       "1"
      ]
     },
     "execution_count": 143,
     "metadata": {},
     "output_type": "execute_result"
    }
   ],
   "source": [
    "l4.count(\"monu\")"
   ]
  },
  {
   "cell_type": "code",
   "execution_count": 144,
   "id": "452ec600-35d7-44d7-8f35-2515559d6d8c",
   "metadata": {},
   "outputs": [
    {
     "data": {
      "text/plain": [
       "['sandep', 'rhul', 'monu', 'chunu']"
      ]
     },
     "execution_count": 144,
     "metadata": {},
     "output_type": "execute_result"
    }
   ],
   "source": [
    "l4"
   ]
  },
  {
   "cell_type": "code",
   "execution_count": 145,
   "id": "acacfab7-d7c7-4214-ac90-e1456e687db6",
   "metadata": {},
   "outputs": [
    {
     "data": {
      "text/plain": [
       "1"
      ]
     },
     "execution_count": 145,
     "metadata": {},
     "output_type": "execute_result"
    }
   ],
   "source": [
    "l4.count(\"chunu\")"
   ]
  },
  {
   "cell_type": "code",
   "execution_count": 147,
   "id": "b61352e1-03dd-4af5-b8db-ba7bbf45fb62",
   "metadata": {},
   "outputs": [],
   "source": [
    "l4.append(\"rhul\")"
   ]
  },
  {
   "cell_type": "markdown",
   "id": "0a8ecaff-0853-4cdc-a96d-1e3ef15f6b3c",
   "metadata": {},
   "source": [
    "#### "
   ]
  },
  {
   "cell_type": "code",
   "execution_count": 148,
   "id": "6c305a85-abf3-4429-b659-1e661d07cf5c",
   "metadata": {},
   "outputs": [
    {
     "data": {
      "text/plain": [
       "['sandep', 'rhul', 'monu', 'chunu', 'rhul']"
      ]
     },
     "execution_count": 148,
     "metadata": {},
     "output_type": "execute_result"
    }
   ],
   "source": [
    "l4"
   ]
  },
  {
   "cell_type": "code",
   "execution_count": 149,
   "id": "28d3ebf4-6a6f-4e9a-9602-569e6766b4b2",
   "metadata": {},
   "outputs": [
    {
     "data": {
      "text/plain": [
       "2"
      ]
     },
     "execution_count": 149,
     "metadata": {},
     "output_type": "execute_result"
    }
   ],
   "source": [
    "l4.count(\"rhul\")"
   ]
  },
  {
   "cell_type": "code",
   "execution_count": 150,
   "id": "e602a35e-abac-45ef-9a53-3c2cf24e4059",
   "metadata": {},
   "outputs": [],
   "source": [
    "l5=[3,4,56,7]"
   ]
  },
  {
   "cell_type": "code",
   "execution_count": 152,
   "id": "3d45aad5-c56f-49e6-a28d-5d85cc0185f4",
   "metadata": {},
   "outputs": [],
   "source": [
    "l5[0]='a'"
   ]
  },
  {
   "cell_type": "code",
   "execution_count": 153,
   "id": "afba1d26-44f4-4b21-907a-e7e0a33a9a53",
   "metadata": {},
   "outputs": [
    {
     "data": {
      "text/plain": [
       "['a', 4, 56, 7]"
      ]
     },
     "execution_count": 153,
     "metadata": {},
     "output_type": "execute_result"
    }
   ],
   "source": [
    "l5"
   ]
  },
  {
   "cell_type": "code",
   "execution_count": 154,
   "id": "ddc8289c-6260-4846-a8aa-19686093c28c",
   "metadata": {},
   "outputs": [],
   "source": [
    "l5[3]=\"sand\""
   ]
  },
  {
   "cell_type": "code",
   "execution_count": 155,
   "id": "272c2751-9c62-4575-b083-004ad9302c53",
   "metadata": {},
   "outputs": [],
   "source": [
    "l5[2]=455"
   ]
  },
  {
   "cell_type": "code",
   "execution_count": 156,
   "id": "bc5c48cb-3a94-42d3-bc05-e6d9d5282edf",
   "metadata": {},
   "outputs": [
    {
     "data": {
      "text/plain": [
       "['a', 4, 455, 'sand']"
      ]
     },
     "execution_count": 156,
     "metadata": {},
     "output_type": "execute_result"
    }
   ],
   "source": [
    "l5"
   ]
  },
  {
   "cell_type": "code",
   "execution_count": 157,
   "id": "d84f7955-359a-4447-94f1-1934db8db867",
   "metadata": {},
   "outputs": [],
   "source": [
    "s=\"sudh\""
   ]
  },
  {
   "cell_type": "code",
   "execution_count": 158,
   "id": "a5031818-92d9-49d8-9800-2a9149e5460b",
   "metadata": {},
   "outputs": [
    {
     "ename": "TypeError",
     "evalue": "'str' object does not support item assignment",
     "output_type": "error",
     "traceback": [
      "\u001b[0;31m---------------------------------------------------------------------------\u001b[0m",
      "\u001b[0;31mTypeError\u001b[0m                                 Traceback (most recent call last)",
      "Cell \u001b[0;32mIn[158], line 1\u001b[0m\n\u001b[0;32m----> 1\u001b[0m \u001b[43ms\u001b[49m\u001b[43m[\u001b[49m\u001b[38;5;241;43m0\u001b[39;49m\u001b[43m]\u001b[49m\u001b[38;5;241m=\u001b[39m\u001b[38;5;124m'\u001b[39m\u001b[38;5;124ma\u001b[39m\u001b[38;5;124m'\u001b[39m\n",
      "\u001b[0;31mTypeError\u001b[0m: 'str' object does not support item assignment"
     ]
    }
   ],
   "source": [
    "s[0]='a'"
   ]
  },
  {
   "cell_type": "code",
   "execution_count": 159,
   "id": "2ab5594d-0561-44de-95b8-5b958fcbc641",
   "metadata": {},
   "outputs": [
    {
     "data": {
      "text/plain": [
       "'sudh'"
      ]
     },
     "execution_count": 159,
     "metadata": {},
     "output_type": "execute_result"
    }
   ],
   "source": [
    "s"
   ]
  },
  {
   "cell_type": "code",
   "execution_count": 160,
   "id": "6e1f6802-dc62-4c23-a854-12feb6f3ca2d",
   "metadata": {},
   "outputs": [
    {
     "data": {
      "text/plain": [
       "'audh'"
      ]
     },
     "execution_count": 160,
     "metadata": {},
     "output_type": "execute_result"
    }
   ],
   "source": [
    "s.replace('s' , 'a')"
   ]
  },
  {
   "cell_type": "code",
   "execution_count": 161,
   "id": "7597396d-b46e-4c96-a365-ed86088842ba",
   "metadata": {},
   "outputs": [
    {
     "data": {
      "text/plain": [
       "'sudh'"
      ]
     },
     "execution_count": 161,
     "metadata": {},
     "output_type": "execute_result"
    }
   ],
   "source": [
    "s"
   ]
  }
 ],
 "metadata": {
  "kernelspec": {
   "display_name": "Python 3 (ipykernel)",
   "language": "python",
   "name": "python3"
  },
  "language_info": {
   "codemirror_mode": {
    "name": "ipython",
    "version": 3
   },
   "file_extension": ".py",
   "mimetype": "text/x-python",
   "name": "python",
   "nbconvert_exporter": "python",
   "pygments_lexer": "ipython3",
   "version": "3.10.8"
  }
 },
 "nbformat": 4,
 "nbformat_minor": 5
}
